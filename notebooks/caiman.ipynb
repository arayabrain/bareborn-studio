{
 "cells": [
  {
   "attachments": {},
   "cell_type": "markdown",
   "id": "a31d0d3c",
   "metadata": {},
   "source": [
    "`conda env create -n caiman_env -f optinist/conda/caiman_env.yaml`"
   ]
  },
  {
   "cell_type": "code",
   "execution_count": null,
   "id": "df7ebe92",
   "metadata": {},
   "outputs": [],
   "source": [
    "import os\n",
    "import sys\n",
    "sys.path.append(os.path.abspath('..'))"
   ]
  },
  {
   "cell_type": "code",
   "execution_count": null,
   "id": "003685fb",
   "metadata": {},
   "outputs": [],
   "source": [
    "from studio.app.optinist.wrappers.caiman import motion_correction, cnmf\n",
    "from studio.app.common.dataclass import ImageData"
   ]
  },
  {
   "cell_type": "code",
   "execution_count": null,
   "id": "02a1948b",
   "metadata": {},
   "outputs": [],
   "source": [
    "sample_data = ImageData([\"../sample_data/mouse2p_2_donotouse.tiff\"])"
   ]
  },
  {
   "cell_type": "code",
   "execution_count": null,
   "id": "c4b86eb6",
   "metadata": {},
   "outputs": [],
   "source": [
    "motion_correction_params = {\n",
    "    'border_nan': 'copy', \n",
    "    'gSig_filt': None, \n",
    "    'is3D': False, \n",
    "    'max_deviation_rigid': 3, \n",
    "    'max_shifts': [6, 6], \n",
    "    'min_mov': None, \n",
    "    'niter_rig': 1, \n",
    "    'nonneg_movie': True, \n",
    "    'num_frames_split': 80, \n",
    "    'num_splits_to_process_els': None, \n",
    "    'num_splits_to_process_rig': None, \n",
    "    'overlaps': [32, 32], \n",
    "    'pw_rigid': False, \n",
    "    'shifts_opencv': True, \n",
    "    'splits_els': 14, \n",
    "    'splits_rig': 14, \n",
    "    'strides': [96, 96], \n",
    "    'upsample_factor_grid': 4, \n",
    "    'use_cuda': False\n",
    "}"
   ]
  },
  {
   "cell_type": "code",
   "execution_count": null,
   "id": "4000581b",
   "metadata": {},
   "outputs": [],
   "source": [
    "ret = motion_correction.caiman_mc(sample_data, motion_correction_params)"
   ]
  },
  {
   "cell_type": "code",
   "execution_count": null,
   "id": "10730c61",
   "metadata": {},
   "outputs": [],
   "source": [
    "caiman_cnmf_params = {\n",
    "    'p': 1,\n",
    "    'nb': 2,\n",
    "    'merge_thr': 0.85,\n",
    "    'rf': None,\n",
    "    'stride': 6,\n",
    "    'K': 10,\n",
    "    'gSig': [4, 4], \n",
    "    'method_init': 'greedy_roi',\n",
    "    'ssub': 1,\n",
    "    'tsub': 1,\n",
    "    'thr': 0.9,\n",
    "}"
   ]
  },
  {
   "cell_type": "code",
   "execution_count": null,
   "id": "f24c5866",
   "metadata": {
    "scrolled": true
   },
   "outputs": [],
   "source": [
    "ret = cnmf.caiman_cnmf(ret['mc_images'], caiman_cnmf_params)"
   ]
  }
 ],
 "metadata": {
  "kernelspec": {
   "display_name": "Python 3 (ipykernel)",
   "language": "python",
   "name": "python3"
  },
  "language_info": {
   "codemirror_mode": {
    "name": "ipython",
    "version": 3
   },
   "file_extension": ".py",
   "mimetype": "text/x-python",
   "name": "python",
   "nbconvert_exporter": "python",
   "pygments_lexer": "ipython3",
   "version": "3.8.16"
  }
 },
 "nbformat": 4,
 "nbformat_minor": 5
}
